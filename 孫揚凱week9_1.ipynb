{
  "nbformat": 4,
  "nbformat_minor": 0,
  "metadata": {
    "colab": {
      "name": "孫揚凱week9-1.ipynb",
      "provenance": [],
      "collapsed_sections": [],
      "authorship_tag": "ABX9TyOdcyyXal8uK8WLIfYGfhpt",
      "include_colab_link": true
    },
    "kernelspec": {
      "name": "python3",
      "display_name": "Python 3"
    }
  },
  "cells": [
    {
      "cell_type": "markdown",
      "metadata": {
        "id": "view-in-github",
        "colab_type": "text"
      },
      "source": [
        "<a href=\"https://colab.research.google.com/github/duck34977089/Computational-Thinking/blob/master/%E5%AD%AB%E6%8F%9A%E5%87%B1week9_1.ipynb\" target=\"_parent\"><img src=\"https://colab.research.google.com/assets/colab-badge.svg\" alt=\"Open In Colab\"/></a>"
      ]
    },
    {
      "cell_type": "code",
      "metadata": {
        "id": "RVDpigK1ZmTs",
        "outputId": "96880a26-3c57-4c5b-9242-5ff12e3faf1e",
        "colab": {
          "base_uri": "https://localhost:8080/"
        }
      },
      "source": [
        "#變數賦值\n",
        "x=2\n",
        "y=5\n",
        "#等號的左邊有什麼規定\n",
        "#等號的右邊有什麼規定\n",
        "#等號可以做什麼\n",
        "\n",
        "#數字資料做運算\n",
        "##加減乘除 商數於數次方\n",
        "##運算順序\n",
        "print(x+y)\n",
        "print(x-y)\n",
        "print(x*y)\n",
        "print(x/y)\n",
        "print(x//y)\n",
        "print(x%y)\n",
        "print(x**y)\n",
        "\n",
        "\n"
      ],
      "execution_count": 1,
      "outputs": [
        {
          "output_type": "stream",
          "text": [
            "7\n",
            "-3\n",
            "10\n",
            "0.4\n",
            "0\n",
            "2\n",
            "32\n"
          ],
          "name": "stdout"
        }
      ]
    },
    {
      "cell_type": "code",
      "metadata": {
        "id": "-sgSHD6YaRJF",
        "outputId": "13a60e4e-924f-4286-9652-cdf380e16c08",
        "colab": {
          "base_uri": "https://localhost:8080/",
          "height": 52
        }
      },
      "source": [
        "input()"
      ],
      "execution_count": 5,
      "outputs": [
        {
          "output_type": "stream",
          "text": [
            "3\n"
          ],
          "name": "stdout"
        },
        {
          "output_type": "execute_result",
          "data": {
            "application/vnd.google.colaboratory.intrinsic+json": {
              "type": "string"
            },
            "text/plain": [
              "'3'"
            ]
          },
          "metadata": {
            "tags": []
          },
          "execution_count": 5
        }
      ]
    },
    {
      "cell_type": "code",
      "metadata": {
        "id": "OZOX3pSgaUXG",
        "outputId": "78520ebe-96ce-481d-8040-52c435d0d4d2",
        "colab": {
          "base_uri": "https://localhost:8080/",
          "height": 52
        }
      },
      "source": [
        "input(\"請輸入數字?   \")"
      ],
      "execution_count": 6,
      "outputs": [
        {
          "output_type": "stream",
          "text": [
            "請輸入數字?   3\n"
          ],
          "name": "stdout"
        },
        {
          "output_type": "execute_result",
          "data": {
            "application/vnd.google.colaboratory.intrinsic+json": {
              "type": "string"
            },
            "text/plain": [
              "'3'"
            ]
          },
          "metadata": {
            "tags": []
          },
          "execution_count": 6
        }
      ]
    },
    {
      "cell_type": "code",
      "metadata": {
        "id": "5uhLSplkalUS",
        "outputId": "9d652093-eac3-4c12-e0b7-119442dc6615",
        "colab": {
          "base_uri": "https://localhost:8080/"
        }
      },
      "source": [
        "x=input(\"請輸入數字?  \")"
      ],
      "execution_count": 8,
      "outputs": [
        {
          "output_type": "stream",
          "text": [
            "請輸入數字?  3\n"
          ],
          "name": "stdout"
        }
      ]
    },
    {
      "cell_type": "code",
      "metadata": {
        "id": "xNwSkpp1a3T6",
        "outputId": "b0a0dc2a-74ff-4e04-b51d-31f8fc4d5746",
        "colab": {
          "base_uri": "https://localhost:8080/",
          "height": 35
        }
      },
      "source": [
        "x"
      ],
      "execution_count": 9,
      "outputs": [
        {
          "output_type": "execute_result",
          "data": {
            "application/vnd.google.colaboratory.intrinsic+json": {
              "type": "string"
            },
            "text/plain": [
              "'3'"
            ]
          },
          "metadata": {
            "tags": []
          },
          "execution_count": 9
        }
      ]
    },
    {
      "cell_type": "code",
      "metadata": {
        "id": "_k0QaMrga7Fs",
        "outputId": "6ee992a8-ce2a-4f92-cf02-27e26b6d3f30",
        "colab": {
          "base_uri": "https://localhost:8080/"
        }
      },
      "source": [
        "print(x)"
      ],
      "execution_count": 10,
      "outputs": [
        {
          "output_type": "stream",
          "text": [
            "3\n"
          ],
          "name": "stdout"
        }
      ]
    },
    {
      "cell_type": "code",
      "metadata": {
        "id": "W2RHmFkCa9Or",
        "outputId": "02ae5bfc-eef2-4922-df05-aa618ba55d58",
        "colab": {
          "base_uri": "https://localhost:8080/"
        }
      },
      "source": [
        "print(x, 2, \"Python\")"
      ],
      "execution_count": 11,
      "outputs": [
        {
          "output_type": "stream",
          "text": [
            "3 2 Python\n"
          ],
          "name": "stdout"
        }
      ]
    },
    {
      "cell_type": "code",
      "metadata": {
        "id": "BVqh7iZPbgZb",
        "outputId": "56b2e0eb-6166-4cfa-f170-f71d7b07b512",
        "colab": {
          "base_uri": "https://localhost:8080/"
        }
      },
      "source": [
        "x=int(input(\"請輸入上衣的數量?\"))\n",
        "y=int(input(\"請輸入庫子的數量?\"))\n",
        "z=int(input(\"請輸入背心數量\"))\n",
        "\n",
        "total = 300*x+350*y+400*z\n",
        "\n",
        "print(\"訂購服裝的總金額為\", total)"
      ],
      "execution_count": 29,
      "outputs": [
        {
          "output_type": "stream",
          "text": [
            "請輸入上衣的數量?5\n",
            "請輸入庫子的數量?5\n",
            "請輸入背心數量5\n",
            "訂購服裝的總金額為 5250\n"
          ],
          "name": "stdout"
        }
      ]
    },
    {
      "cell_type": "code",
      "metadata": {
        "id": "WdhP4PnxfbIV",
        "outputId": "99009f42-426d-469c-968e-8f8a04d0334f",
        "colab": {
          "base_uri": "https://localhost:8080/"
        }
      },
      "source": [
        "Cans = int(input(\"請收入購入的飲料數?\"))"
      ],
      "execution_count": 17,
      "outputs": [
        {
          "output_type": "stream",
          "text": [
            "請收入購入的飲料數?30\n"
          ],
          "name": "stdout"
        }
      ]
    },
    {
      "cell_type": "code",
      "metadata": {
        "id": "K4MIVlUrhEYe"
      },
      "source": [
        "Total = (Cans//12)*200+(Cans%12)*20"
      ],
      "execution_count": 22,
      "outputs": []
    },
    {
      "cell_type": "code",
      "metadata": {
        "id": "lPhwkG9yhRJK",
        "outputId": "6df459fc-e814-490e-d529-cc9eacd6b089",
        "colab": {
          "base_uri": "https://localhost:8080/"
        }
      },
      "source": [
        "print (\"需花費\",Total)"
      ],
      "execution_count": 23,
      "outputs": [
        {
          "output_type": "stream",
          "text": [
            "需花費 520\n"
          ],
          "name": "stdout"
        }
      ]
    },
    {
      "cell_type": "code",
      "metadata": {
        "id": "817r5Xlohrb5"
      },
      "source": [
        ""
      ],
      "execution_count": null,
      "outputs": []
    },
    {
      "cell_type": "code",
      "metadata": {
        "id": "W9EJNHfhhuYn",
        "outputId": "1c3cd2e8-cd5d-4f30-d7c7-1b288a0a5475",
        "colab": {
          "base_uri": "https://localhost:8080/"
        }
      },
      "source": [
        "first = int(input(\"請輸入第一次期中考成績?  \"))"
      ],
      "execution_count": 24,
      "outputs": [
        {
          "output_type": "stream",
          "text": [
            "請輸入第一次期中考成績?  75\n"
          ],
          "name": "stdout"
        }
      ]
    },
    {
      "cell_type": "code",
      "metadata": {
        "id": "iJ3Oa_EGh4oM",
        "outputId": "f2e122fa-5f9b-4055-a877-542ea41a7482",
        "colab": {
          "base_uri": "https://localhost:8080/"
        }
      },
      "source": [
        "second = int(input(\"請輸入第二次期中考成績? \"))"
      ],
      "execution_count": 26,
      "outputs": [
        {
          "output_type": "stream",
          "text": [
            "請輸入第二次期中考成績? 80\n"
          ],
          "name": "stdout"
        }
      ]
    },
    {
      "cell_type": "code",
      "metadata": {
        "id": "HgVMkWltiDNx",
        "outputId": "85c9c2c0-0406-4cab-abf5-9f8f2249243a",
        "colab": {
          "base_uri": "https://localhost:8080/"
        }
      },
      "source": [
        "final = int(input(\"請輸入期末考成績? \"))"
      ],
      "execution_count": 27,
      "outputs": [
        {
          "output_type": "stream",
          "text": [
            "請輸入期末考成績? 65\n"
          ],
          "name": "stdout"
        }
      ]
    },
    {
      "cell_type": "code",
      "metadata": {
        "id": "hs-sbzMoiVPj",
        "outputId": "623cdeec-6ef0-4dc4-f71d-57882414c548",
        "colab": {
          "base_uri": "https://localhost:8080/"
        }
      },
      "source": [
        "total = first + second + final\n",
        "average = total / 3\n",
        "print(\"總分為\", total, \"平均為\", average)"
      ],
      "execution_count": 28,
      "outputs": [
        {
          "output_type": "stream",
          "text": [
            "總分為 220 平均為 73.33333333333333\n"
          ],
          "name": "stdout"
        }
      ]
    },
    {
      "cell_type": "code",
      "metadata": {
        "id": "bY1zDCvviwV5"
      },
      "source": [
        ""
      ],
      "execution_count": null,
      "outputs": []
    }
  ]
}