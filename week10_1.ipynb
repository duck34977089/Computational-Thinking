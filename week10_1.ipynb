{
  "nbformat": 4,
  "nbformat_minor": 0,
  "metadata": {
    "colab": {
      "name": "week10-1",
      "provenance": [],
      "authorship_tag": "ABX9TyN2tQZiHzi598FENQJOe+nn",
      "include_colab_link": true
    },
    "kernelspec": {
      "name": "python3",
      "display_name": "Python 3"
    }
  },
  "cells": [
    {
      "cell_type": "markdown",
      "metadata": {
        "id": "view-in-github",
        "colab_type": "text"
      },
      "source": [
        "<a href=\"https://colab.research.google.com/github/duck34977089/Computational-Thinking/blob/master/week10_1.ipynb\" target=\"_parent\"><img src=\"https://colab.research.google.com/assets/colab-badge.svg\" alt=\"Open In Colab\"/></a>"
      ]
    },
    {
      "cell_type": "code",
      "metadata": {
        "id": "cy1e3oxcWCi_"
      },
      "source": [
        "電影名稱 = \"魔球\"\n",
        "上映時間 = \"2011\"\n",
        "評價 = \"7.6*\"\n",
        "長度 = \"133分鐘\"\n",
        "台灣上映時間 = 2011.11\n"
      ],
      "execution_count": 28,
      "outputs": []
    },
    {
      "cell_type": "code",
      "metadata": {
        "colab": {
          "base_uri": "https://localhost:8080/"
        },
        "id": "rjzbBG38YH0S",
        "outputId": "6577f0db-af32-431d-9a45-1dd964e8c16a"
      },
      "source": [
        "print(\"電影名稱\" ,電影名稱)"
      ],
      "execution_count": 25,
      "outputs": [
        {
          "output_type": "stream",
          "text": [
            "電影名稱 魔球\n"
          ],
          "name": "stdout"
        }
      ]
    },
    {
      "cell_type": "code",
      "metadata": {
        "colab": {
          "base_uri": "https://localhost:8080/"
        },
        "id": "-Dca9szkZSDl",
        "outputId": "4ec65a93-cf71-4e3b-bc90-3062f4fdd2a3"
      },
      "source": [
        "print(\"上映時間\" ,上映時間)"
      ],
      "execution_count": 29,
      "outputs": [
        {
          "output_type": "stream",
          "text": [
            "上映時間 2011\n"
          ],
          "name": "stdout"
        }
      ]
    },
    {
      "cell_type": "code",
      "metadata": {
        "colab": {
          "base_uri": "https://localhost:8080/"
        },
        "id": "ogH17k9AZee3",
        "outputId": "c3af2449-5cc0-4c9a-c9a5-f2bb4745d61f"
      },
      "source": [
        "print(\"評價\",評價)"
      ],
      "execution_count": 30,
      "outputs": [
        {
          "output_type": "stream",
          "text": [
            "評價 7.6*\n"
          ],
          "name": "stdout"
        }
      ]
    },
    {
      "cell_type": "code",
      "metadata": {
        "colab": {
          "base_uri": "https://localhost:8080/"
        },
        "id": "6tno0PYuckL0",
        "outputId": "6003a6f7-8e25-454b-bb1e-8a0077926ef7"
      },
      "source": [
        "print(\"長度\",長度)"
      ],
      "execution_count": 31,
      "outputs": [
        {
          "output_type": "stream",
          "text": [
            "長度 133分鐘\n"
          ],
          "name": "stdout"
        }
      ]
    },
    {
      "cell_type": "code",
      "metadata": {
        "colab": {
          "base_uri": "https://localhost:8080/"
        },
        "id": "EaHbEJTAcqJI",
        "outputId": "1c58cada-b25b-47e9-a96e-3135cce65a75"
      },
      "source": [
        "print(\"台灣上映時間\",台灣上映時間)"
      ],
      "execution_count": 32,
      "outputs": [
        {
          "output_type": "stream",
          "text": [
            "台灣上映時間 2011.11\n"
          ],
          "name": "stdout"
        }
      ]
    },
    {
      "cell_type": "code",
      "metadata": {
        "id": "L8o6kZ-JcxKO"
      },
      "source": [
        ""
      ],
      "execution_count": null,
      "outputs": []
    }
  ]
}