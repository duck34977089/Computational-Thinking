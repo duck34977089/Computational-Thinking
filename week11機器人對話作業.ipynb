{
  "nbformat": 4,
  "nbformat_minor": 0,
  "metadata": {
    "colab": {
      "name": "week11機器人對話作業",
      "provenance": [],
      "authorship_tag": "ABX9TyOgynIXFUPIbluZMPKxPJds",
      "include_colab_link": true
    },
    "kernelspec": {
      "name": "python3",
      "display_name": "Python 3"
    }
  },
  "cells": [
    {
      "cell_type": "markdown",
      "metadata": {
        "id": "view-in-github",
        "colab_type": "text"
      },
      "source": [
        "<a href=\"https://colab.research.google.com/github/duck34977089/Computational-Thinking/blob/master/week11%E6%A9%9F%E5%99%A8%E4%BA%BA%E5%B0%8D%E8%A9%B1%E4%BD%9C%E6%A5%AD.ipynb\" target=\"_parent\"><img src=\"https://colab.research.google.com/assets/colab-badge.svg\" alt=\"Open In Colab\"/></a>"
      ]
    },
    {
      "cell_type": "code",
      "metadata": {
        "colab": {
          "base_uri": "https://localhost:8080/"
        },
        "id": "XvC6q303yfbo",
        "outputId": "3dabe8c6-886c-49b7-bc03-4a581b41e1a8"
      },
      "source": [
        "print(\"哈囉,大家好。我叫Zyxo64,是一個聊天機器人\")\n"
      ],
      "execution_count": 9,
      "outputs": [
        {
          "output_type": "stream",
          "text": [
            "哈囉,大家好。我叫Zyxo64,是一個聊天機器人\n"
          ],
          "name": "stdout"
        }
      ]
    },
    {
      "cell_type": "code",
      "metadata": {
        "colab": {
          "base_uri": "https://localhost:8080/"
        },
        "id": "frd2ptOuyz0R",
        "outputId": "9d2416f6-961e-4d62-91dc-93294ebb2537"
      },
      "source": [
        "hobby = \"我喜歡美食,也喜歡養動物。今天很高興來到世新大學,請大家多多指教。\"\n",
        "print(hobby)"
      ],
      "execution_count": 35,
      "outputs": [
        {
          "output_type": "stream",
          "text": [
            "我喜歡美食,也喜歡養動物。今天很高興來到世新大學,請大家多多指教。\n"
          ],
          "name": "stdout"
        }
      ]
    },
    {
      "cell_type": "code",
      "metadata": {
        "colab": {
          "base_uri": "https://localhost:8080/"
        },
        "id": "d2hfcjwWy9Mz",
        "outputId": "590a3835-3c41-41f4-f26e-d303917f2404"
      },
      "source": [
        "name = input(\"嗨!你好，請問大名?:\")"
      ],
      "execution_count": 5,
      "outputs": [
        {
          "output_type": "stream",
          "text": [
            "嗨!你好，請問大名?:Francis\n"
          ],
          "name": "stdout"
        }
      ]
    },
    {
      "cell_type": "code",
      "metadata": {
        "colab": {
          "base_uri": "https://localhost:8080/"
        },
        "id": "Gpyk2o5G1n-N",
        "outputId": "18c56f72-6410-4e7f-9b27-25fd99f8d836"
      },
      "source": [
        "print(\"我叫\",name)"
      ],
      "execution_count": 6,
      "outputs": [
        {
          "output_type": "stream",
          "text": [
            "我叫 Francis\n"
          ],
          "name": "stdout"
        }
      ]
    },
    {
      "cell_type": "code",
      "metadata": {
        "colab": {
          "base_uri": "https://localhost:8080/"
        },
        "id": "ivb6T6iF1tdL",
        "outputId": "429009d3-8b34-44fe-897d-bb1512fcac67"
      },
      "source": [
        "print(\"你好\",name,\"很高興認識你\")"
      ],
      "execution_count": 7,
      "outputs": [
        {
          "output_type": "stream",
          "text": [
            "你好 Francis 很高興認識你\n"
          ],
          "name": "stdout"
        }
      ]
    },
    {
      "cell_type": "code",
      "metadata": {
        "id": "X9Z8hzYI11hf"
      },
      "source": [
        ""
      ],
      "execution_count": null,
      "outputs": []
    },
    {
      "cell_type": "code",
      "metadata": {
        "colab": {
          "base_uri": "https://localhost:8080/"
        },
        "id": "Qvj8prdN11sf",
        "outputId": "9081bf3d-8464-45ff-e71e-2df0029a70e1"
      },
      "source": [
        "year = input(\"請問一下今年是西元2020年，那是民國幾年? \")"
      ],
      "execution_count": 9,
      "outputs": [
        {
          "output_type": "stream",
          "text": [
            "請問一下今年是西元2020年，那是民國幾年? 109\n"
          ],
          "name": "stdout"
        }
      ]
    },
    {
      "cell_type": "code",
      "metadata": {
        "colab": {
          "base_uri": "https://localhost:8080/"
        },
        "id": "2vo-TepO2TAU",
        "outputId": "d8fe64c5-7b9f-4526-b215-eb657a3d857f"
      },
      "source": [
        "print(\"對!應該沒錯，謝謝妳!\")"
      ],
      "execution_count": 10,
      "outputs": [
        {
          "output_type": "stream",
          "text": [
            "對!應該沒錯，謝謝妳!\n"
          ],
          "name": "stdout"
        }
      ]
    },
    {
      "cell_type": "code",
      "metadata": {
        "colab": {
          "base_uri": "https://localhost:8080/"
        },
        "id": "xBhvU1f92bKp",
        "outputId": "b4f7095e-8a00-453c-ae00-ebacffae0147"
      },
      "source": [
        "myage = int(input(\"再猜猜看我今年幾歲? \"))"
      ],
      "execution_count": 11,
      "outputs": [
        {
          "output_type": "stream",
          "text": [
            "再猜猜看我今年幾歲? 15\n"
          ],
          "name": "stdout"
        }
      ]
    },
    {
      "cell_type": "code",
      "metadata": {
        "colab": {
          "base_uri": "https://localhost:8080/"
        },
        "id": "6upAr1PQ2s5t",
        "outputId": "5b63b147-2f79-40b0-8dca-0599e111b06c"
      },
      "source": [
        "print(\"哇!妳好聰明，我今年的確\",myage)"
      ],
      "execution_count": 12,
      "outputs": [
        {
          "output_type": "stream",
          "text": [
            "哇!妳好聰明，我今年的確 15\n"
          ],
          "name": "stdout"
        }
      ]
    },
    {
      "cell_type": "code",
      "metadata": {
        "colab": {
          "base_uri": "https://localhost:8080/"
        },
        "id": "RgIRmCHU26pQ",
        "outputId": "f7198f46-e403-4962-c71d-ab09090fbdfd"
      },
      "source": [
        "nyears = 100-myage\n",
        "print(\"我再\",nyears,\"年就滿100歲了\")"
      ],
      "execution_count": 14,
      "outputs": [
        {
          "output_type": "stream",
          "text": [
            "我再 85 年就滿100歲了\n"
          ],
          "name": "stdout"
        }
      ]
    },
    {
      "cell_type": "code",
      "metadata": {
        "colab": {
          "base_uri": "https://localhost:8080/"
        },
        "id": "0Pl34dDd3LCb",
        "outputId": "7069dc33-e56e-4aaf-820a-aefce2a55648"
      },
      "source": [
        "print(\"到時候是西元\",int(year)+nyears+1911,\"年\")"
      ],
      "execution_count": 15,
      "outputs": [
        {
          "output_type": "stream",
          "text": [
            "到時候是西元 2105 年\n"
          ],
          "name": "stdout"
        }
      ]
    },
    {
      "cell_type": "code",
      "metadata": {
        "colab": {
          "base_uri": "https://localhost:8080/"
        },
        "id": "f7kEUizd5Uls",
        "outputId": "b1bbda71-cc40-4f50-8ce8-23d843276d1f"
      },
      "source": [
        "print(\"我喜歡巧克力，也喜歡嘗試各種新食物\")"
      ],
      "execution_count": 16,
      "outputs": [
        {
          "output_type": "stream",
          "text": [
            "我喜歡巧克力，也喜歡嘗試各種新食物\n"
          ],
          "name": "stdout"
        }
      ]
    },
    {
      "cell_type": "code",
      "metadata": {
        "colab": {
          "base_uri": "https://localhost:8080/"
        },
        "id": "T_fsyRI_5h8T",
        "outputId": "7633ac55-892a-451f-88f2-3f615721e714"
      },
      "source": [
        "food = input(\"你呢。你最喜歡的食物是什麼?: \")\n",
        "print(\"我也喜歡\",food)"
      ],
      "execution_count": 17,
      "outputs": [
        {
          "output_type": "stream",
          "text": [
            "你呢。你最喜歡的食物是什麼?: 披薩\n",
            "我也喜歡 披薩\n"
          ],
          "name": "stdout"
        }
      ]
    },
    {
      "cell_type": "code",
      "metadata": {
        "colab": {
          "base_uri": "https://localhost:8080/"
        },
        "id": "m1ckrDdP51lp",
        "outputId": "985b87be-e278-4cba-d939-4bbb006617ef"
      },
      "source": [
        "question = \"你多久吃一次\"+food+\"?\"\n",
        "howoften = input(question)"
      ],
      "execution_count": 18,
      "outputs": [
        {
          "output_type": "stream",
          "text": [
            "你多久吃一次披薩?每天\n"
          ],
          "name": "stdout"
        }
      ]
    },
    {
      "cell_type": "code",
      "metadata": {
        "colab": {
          "base_uri": "https://localhost:8080/"
        },
        "id": "loF-xMY36KIa",
        "outputId": "ef1b12b4-b0f8-448b-a07b-d8299f6399ce"
      },
      "source": [
        "print(\"真有趣。不知道這樣對健康好不好!\")"
      ],
      "execution_count": 19,
      "outputs": [
        {
          "output_type": "stream",
          "text": [
            "真有趣。不知道這樣對健康好不好!\n"
          ],
          "name": "stdout"
        }
      ]
    },
    {
      "cell_type": "code",
      "metadata": {
        "id": "TpbVSzCc6Zez"
      },
      "source": [
        ""
      ],
      "execution_count": null,
      "outputs": []
    },
    {
      "cell_type": "code",
      "metadata": {
        "colab": {
          "base_uri": "https://localhost:8080/"
        },
        "id": "wJWGtyfI6Zlz",
        "outputId": "d37ce823-4567-45cf-8000-894fa2bd9bef"
      },
      "source": [
        "animal = input(\"我最喜歡的動物是長頸鹿。你呢?: \")\n",
        "print(\"我不喜歡\",animal)"
      ],
      "execution_count": 21,
      "outputs": [
        {
          "output_type": "stream",
          "text": [
            "我最喜歡的動物是長頸鹿。你呢?: 烏龜\n",
            "我不喜歡 烏龜\n"
          ],
          "name": "stdout"
        }
      ]
    },
    {
      "cell_type": "code",
      "metadata": {
        "colab": {
          "base_uri": "https://localhost:8080/"
        },
        "id": "R5MlmC2m6ySX",
        "outputId": "b9693fd1-dc32-48d3-f246-305a3a568bc1"
      },
      "source": [
        "print(\"不知道\",animal,\"喜不喜歡吃\",food,\"?\")"
      ],
      "execution_count": 22,
      "outputs": [
        {
          "output_type": "stream",
          "text": [
            "不知道 烏龜 喜不喜歡吃 披薩 ?\n"
          ],
          "name": "stdout"
        }
      ]
    },
    {
      "cell_type": "code",
      "metadata": {
        "id": "KkTZLpQR69Hb"
      },
      "source": [
        ""
      ],
      "execution_count": null,
      "outputs": []
    },
    {
      "cell_type": "code",
      "metadata": {
        "colab": {
          "base_uri": "https://localhost:8080/"
        },
        "id": "5N3__VYT69N-",
        "outputId": "c4854a5b-11ac-4159-cf09-1db19dee952a"
      },
      "source": [
        "feeling = input(\"你今天心情如何?: \")"
      ],
      "execution_count": 23,
      "outputs": [
        {
          "output_type": "stream",
          "text": [
            "你今天心情如何?: 開心\n"
          ],
          "name": "stdout"
        }
      ]
    },
    {
      "cell_type": "code",
      "metadata": {
        "colab": {
          "base_uri": "https://localhost:8080/"
        },
        "id": "amCXF7Or7N3e",
        "outputId": "8059d8d0-c94a-49de-a9c3-5d78864d2bb3"
      },
      "source": [
        "print(\"告訴我你現在\",feeling,\"的原因\")"
      ],
      "execution_count": 24,
      "outputs": [
        {
          "output_type": "stream",
          "text": [
            "告訴我你現在 開心 的原因\n"
          ],
          "name": "stdout"
        }
      ]
    },
    {
      "cell_type": "code",
      "metadata": {
        "colab": {
          "base_uri": "https://localhost:8080/"
        },
        "id": "GLrZSyQu7ZsG",
        "outputId": "db1b9321-d77a-49e9-81ab-661b01019c99"
      },
      "source": [
        "reason = input(\"為什麼\")"
      ],
      "execution_count": 25,
      "outputs": [
        {
          "output_type": "stream",
          "text": [
            "為什麼週末了\n"
          ],
          "name": "stdout"
        }
      ]
    },
    {
      "cell_type": "code",
      "metadata": {
        "colab": {
          "base_uri": "https://localhost:8080/"
        },
        "id": "sv2F3eyX7hoK",
        "outputId": "f0692f47-0ca9-4cf9-a19c-0e1657965c50"
      },
      "source": [
        "print(\"我知道了。謝謝分享\")"
      ],
      "execution_count": 26,
      "outputs": [
        {
          "output_type": "stream",
          "text": [
            "我知道了。謝謝分享\n"
          ],
          "name": "stdout"
        }
      ]
    },
    {
      "cell_type": "code",
      "metadata": {
        "id": "WUZMKKe37m9S"
      },
      "source": [
        ""
      ],
      "execution_count": null,
      "outputs": []
    },
    {
      "cell_type": "code",
      "metadata": {
        "colab": {
          "base_uri": "https://localhost:8080/"
        },
        "id": "RfBJLOhq7nFP",
        "outputId": "56b5d94b-3fae-4296-f5bc-7b5bd2998ab0"
      },
      "source": [
        "print(\"今天事情真多!我累了，下次再聊\")\n",
        "print(\"再見\",name,\"我喜歡跟你聊天!\")"
      ],
      "execution_count": 27,
      "outputs": [
        {
          "output_type": "stream",
          "text": [
            "今天事情真多!我累了，下次再聊\n",
            "再見 Francis 我喜歡跟你聊天!\n"
          ],
          "name": "stdout"
        }
      ]
    }
  ]
}