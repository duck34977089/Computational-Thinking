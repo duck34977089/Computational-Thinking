{
  "nbformat": 4,
  "nbformat_minor": 0,
  "metadata": {
    "colab": {
      "name": "孫揚凱week12-1.2",
      "provenance": [],
      "authorship_tag": "ABX9TyPjJqJkFdIp3agTPr2cyYEs",
      "include_colab_link": true
    },
    "kernelspec": {
      "name": "python3",
      "display_name": "Python 3"
    }
  },
  "cells": [
    {
      "cell_type": "markdown",
      "metadata": {
        "id": "view-in-github",
        "colab_type": "text"
      },
      "source": [
        "<a href=\"https://colab.research.google.com/github/duck34977089/Computational-Thinking/blob/master/%E5%AD%AB%E6%8F%9A%E5%87%B1week12_1_2.ipynb\" target=\"_parent\"><img src=\"https://colab.research.google.com/assets/colab-badge.svg\" alt=\"Open In Colab\"/></a>"
      ]
    },
    {
      "cell_type": "code",
      "metadata": {
        "id": "XRTZQ7HicQe2"
      },
      "source": [
        "#隨堂練習1:購物清單\n",
        "試著用串列列出你最喜愛的五樣東西為購物清單(shopping_list)!"
      ],
      "execution_count": null,
      "outputs": []
    },
    {
      "cell_type": "code",
      "metadata": {
        "colab": {
          "base_uri": "https://localhost:8080/"
        },
        "id": "IR6TpVa5czBs",
        "outputId": "559add8f-0973-4986-d6c1-e9ad965e0ff8"
      },
      "source": [
        "shoppinglist = [\"牛奶\",\"蛋\",\"咖啡豆\",\"西瓜\",\"鳳梨\"]\n",
        "print(shoppinglist)"
      ],
      "execution_count": 20,
      "outputs": [
        {
          "output_type": "stream",
          "text": [
            "['牛奶', '蛋', '咖啡豆', '西瓜', '鳳梨']\n"
          ],
          "name": "stdout"
        }
      ]
    },
    {
      "cell_type": "code",
      "metadata": {
        "colab": {
          "base_uri": "https://localhost:8080/"
        },
        "id": "LsZ0VCFrdJDE",
        "outputId": "b9cf80fa-8b3c-4363-da4b-949c43293cd2"
      },
      "source": [
        "print(shoppinglist[3])"
      ],
      "execution_count": 22,
      "outputs": [
        {
          "output_type": "stream",
          "text": [
            "西瓜\n"
          ],
          "name": "stdout"
        }
      ]
    },
    {
      "cell_type": "code",
      "metadata": {
        "colab": {
          "base_uri": "https://localhost:8080/"
        },
        "id": "YcItsr8TerrF",
        "outputId": "e957ab44-027a-4a27-e845-971de787b53e"
      },
      "source": [
        "print(shoppinglist[1:3])"
      ],
      "execution_count": 23,
      "outputs": [
        {
          "output_type": "stream",
          "text": [
            "['蛋', '咖啡豆']\n"
          ],
          "name": "stdout"
        }
      ]
    },
    {
      "cell_type": "code",
      "metadata": {
        "id": "DaYfydQpffHg"
      },
      "source": [
        "隨堂練習2:在變數best_NBA 中,我們用 list串列儲存了 6 個資料內容:分別是三個文字\n",
        "記錄,包括球季(season)、隊名(team)與總教練(coach);一個長度為 2 的 list 記錄了勝場數\n",
        "與敗場數(records);一個長度為 5 的 list 記錄了先發的五位球員(starting);一個布林記錄\n",
        "是否有獲得該球季的總冠軍(chanpion)。"
      ],
      "execution_count": null,
      "outputs": []
    },
    {
      "cell_type": "code",
      "metadata": {
        "colab": {
          "base_uri": "https://localhost:8080/"
        },
        "id": "bDXxIQHtffsn",
        "outputId": "f28a2dc0-331c-46c3-f3c3-13078f3731e2"
      },
      "source": [
        "season = \"1995-1996\"\n",
        "team = \"Chicago Bulls\"\n",
        "coach = \"Phil Jackson\"\n",
        "records = [72,10]\n",
        "chanpion = \"Yes\"\n",
        "starting = [\"Ron Harper\",\"Michael Jordan\",\"Scottie Pippen\",\"Dennis Rodman\",\"Luc Longley\"]\n",
        "list = [season,team,coach,records,starting,chanpion]\n",
        "best_NBA = list\n",
        "print(best_NBA)"
      ],
      "execution_count": 55,
      "outputs": [
        {
          "output_type": "stream",
          "text": [
            "['1995-1996', 'Chicago Bulls', 'Phil Jackson', [72, 10], ['Ron Harper', 'Michael Jordan', 'Scottie Pippen', 'Dennis Rodman', 'Luc Longley'], 'Yes']\n"
          ],
          "name": "stdout"
        }
      ]
    },
    {
      "cell_type": "code",
      "metadata": {
        "id": "zSTDr7xLkj7i"
      },
      "source": [
        "又,請從變數best_NBA 中找出五位球員的名單(starting_linup),並印出球季(season)、隊\n",
        "名(team)與總教練(coach)這三筆文字紀錄。"
      ],
      "execution_count": null,
      "outputs": []
    },
    {
      "cell_type": "code",
      "metadata": {
        "colab": {
          "base_uri": "https://localhost:8080/"
        },
        "id": "9rMrAHayizxC",
        "outputId": "421e02eb-861b-46a4-de76-4f5b4054e3be"
      },
      "source": [
        "print(best_NBA[4])"
      ],
      "execution_count": 58,
      "outputs": [
        {
          "output_type": "stream",
          "text": [
            "['Ron Harper', 'Michael Jordan', 'Scottie Pippen', 'Dennis Rodman', 'Luc Longley']\n"
          ],
          "name": "stdout"
        }
      ]
    },
    {
      "cell_type": "code",
      "metadata": {
        "colab": {
          "base_uri": "https://localhost:8080/"
        },
        "id": "ySaKozjKlTuy",
        "outputId": "6b340f69-3d7c-41ae-ecef-fed1794bafa4"
      },
      "source": [
        "print(best_NBA[0:3])"
      ],
      "execution_count": 60,
      "outputs": [
        {
          "output_type": "stream",
          "text": [
            "['1995-1996', 'Chicago Bulls', 'Phil Jackson']\n"
          ],
          "name": "stdout"
        }
      ]
    }
  ]
}