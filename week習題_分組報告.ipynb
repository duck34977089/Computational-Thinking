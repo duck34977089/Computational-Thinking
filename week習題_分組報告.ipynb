{
  "nbformat": 4,
  "nbformat_minor": 0,
  "metadata": {
    "colab": {
      "name": "week習題-分組報告",
      "provenance": [],
      "authorship_tag": "ABX9TyNatJ4/HI+1wuTWewXu7Hl+",
      "include_colab_link": true
    },
    "kernelspec": {
      "name": "python3",
      "display_name": "Python 3"
    }
  },
  "cells": [
    {
      "cell_type": "markdown",
      "metadata": {
        "id": "view-in-github",
        "colab_type": "text"
      },
      "source": [
        "<a href=\"https://colab.research.google.com/github/duck34977089/Computational-Thinking/blob/master/week%E7%BF%92%E9%A1%8C_%E5%88%86%E7%B5%84%E5%A0%B1%E5%91%8A.ipynb\" target=\"_parent\"><img src=\"https://colab.research.google.com/assets/colab-badge.svg\" alt=\"Open In Colab\"/></a>"
      ]
    },
    {
      "cell_type": "code",
      "metadata": {
        "colab": {
          "base_uri": "https://localhost:8080/"
        },
        "id": "ZA-PJjBXnPMS",
        "outputId": "7f7349db-839e-41c7-947e-58f4d08481e6"
      },
      "source": [
        "座號 = int(input(\"請輸入座號\"))\n",
        "組別 = int(座號//5)\n",
        "\n",
        "print(\"組別\",組別+1)"
      ],
      "execution_count": 52,
      "outputs": [
        {
          "output_type": "stream",
          "text": [
            "請輸入座號22\n",
            "組別 5\n"
          ],
          "name": "stdout"
        }
      ]
    }
  ]
}