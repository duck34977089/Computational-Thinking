{
  "nbformat": 4,
  "nbformat_minor": 0,
  "metadata": {
    "colab": {
      "name": "自我介紹作業.ipynb",
      "provenance": [],
      "collapsed_sections": [],
      "authorship_tag": "ABX9TyMrHwOEaZZD3qmQwt9v+Rbc",
      "include_colab_link": true
    },
    "kernelspec": {
      "name": "python3",
      "display_name": "Python 3"
    }
  },
  "cells": [
    {
      "cell_type": "markdown",
      "metadata": {
        "id": "view-in-github",
        "colab_type": "text"
      },
      "source": [
        "<a href=\"https://colab.research.google.com/github/duck34977089/Computational-Thinking/blob/master/week14%E8%87%AA%E6%88%91%E4%BB%8B%E7%B4%B9%E4%BD%9C%E6%A5%AD.ipynb\" target=\"_parent\"><img src=\"https://colab.research.google.com/assets/colab-badge.svg\" alt=\"Open In Colab\"/></a>"
      ]
    },
    {
      "cell_type": "code",
      "metadata": {
        "colab": {
          "base_uri": "https://localhost:8080/"
        },
        "id": "dYss1undl81C",
        "outputId": "684a658b-21f2-4219-ed84-766e3e56a3f4"
      },
      "source": [
        "people = [\"Mario\", \"Peach\", \"Luigi\", \"Daisy\", \"Toad\", \"Yoshi\"]\r\n",
        "desserts = [\"Star Pudding\", \"Peach Pie\", \"Popsicles\", \"Honey Cake\", \"Cookies\", \"Jelly Beans\"]\r\n",
        "for index in [0,1,2,3,4,5]:\r\n",
        "  person = people[index]\r\n",
        "  dessert = desserts[index]\r\n",
        "  print(\"Hi, my name is\",person,\",My favorite dessert is\",dessert,\".\")\r\n",
        "  "
      ],
      "execution_count": 34,
      "outputs": [
        {
          "output_type": "stream",
          "text": [
            "Hi, my name is Mario ,My favorite dessert is Star Pudding .\n",
            "Hi, my name is Peach ,My favorite dessert is Peach Pie .\n",
            "Hi, my name is Luigi ,My favorite dessert is Popsicles .\n",
            "Hi, my name is Daisy ,My favorite dessert is Honey Cake .\n",
            "Hi, my name is Toad ,My favorite dessert is Cookies .\n",
            "Hi, my name is Yoshi ,My favorite dessert is Jelly Beans .\n"
          ],
          "name": "stdout"
        }
      ]
    }
  ]
}