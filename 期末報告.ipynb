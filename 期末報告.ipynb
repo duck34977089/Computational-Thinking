{
  "nbformat": 4,
  "nbformat_minor": 0,
  "metadata": {
    "colab": {
      "name": "期末報告",
      "provenance": [],
      "include_colab_link": true
    },
    "kernelspec": {
      "name": "python3",
      "display_name": "Python 3"
    }
  },
  "cells": [
    {
      "cell_type": "markdown",
      "metadata": {
        "id": "view-in-github",
        "colab_type": "text"
      },
      "source": [
        "<a href=\"https://colab.research.google.com/github/duck34977089/Computational-Thinking/blob/master/%E6%9C%9F%E6%9C%AB%E5%A0%B1%E5%91%8A.ipynb\" target=\"_parent\"><img src=\"https://colab.research.google.com/assets/colab-badge.svg\" alt=\"Open In Colab\"/></a>"
      ]
    },
    {
      "cell_type": "markdown",
      "metadata": {
        "id": "W2kiL5H36Cqh"
      },
      "source": [
        "成員: 鄭盛元 A109260021 孫揚凱 A109260055 徐緯鳴 A109260053 林氶哲 A109260101 林威廷 A109260061 謝易璋 A109260095 李林宏 A109260029 分工名單:一人打一段然後分別上台報告 報告順序如程式上的順序 腳本:一群朋友相約出去玩，在討論的時候碰到許多問題，諸如要不要吃早餐?吃什麼和要去哪 裡玩跟花費的問題，之後到遊樂園時還有門票跟要玩什麼遊樂設施最後是回家的問題"
      ]
    },
    {
      "cell_type": "code",
      "metadata": {
        "id": "_PtT3UAtajci"
      },
      "source": [
        "#鄭盛元\n",
        "mood=input(\"嗨囉!好久不見.最近過得好嗎?\")\n",
        "print(\"真的嘛?那我們應該多出來聚聚的\")\n",
        "breakfast = int(input(\"肚子好餓喔!要不要吃早餐啊?餓的程度1~10你打幾分\"))\n",
        "if breakfast>=5:\n",
        "  print(\"最近有新開的中式早餐诶!要去吃看看嗎?\")\n",
        "if breakfast<5:\n",
        "  print(\"不管.我餓了!我們去吃早餐拉!\")  \n",
        "menudrink=[\"可樂.奶茶.紅茶,咖啡\"]  \n",
        "menumeals=[\"1號餐.2號餐.3號餐\"]\n",
        "Waiter = int(input(\"請問你們幾位呢?\"))\n",
        "print(\"這邊請坐.等下會有人為您服務\")\n",
        "print(\"他們有什麼吃得跟喝的阿?\")\n",
        "print(\"我們吃的有\",menumeals)\n",
        "print(\"我們喝的有\",menudrink)\n",
        "drink= int(input(\"請問妳們要喝什麼呢?\"))\n",
        "tastydrink=[\"可樂\",\"奶茶\",\"紅茶\"]\n",
        "for i in tastydrink:\n",
        "  print(\"我想點\",i)\n",
        "meals= int(input(\"那你們要吃幾號餐呢?\"))\n",
        "if meals==1:\n",
        "  A=50\n",
        "  for i in range(0,2,1):\n",
        "    print(\"真巧,我也想吃這個\")\n",
        "else:\n",
        "  A=60\n",
        "  print(\"蛤,我比較想吃1號餐\")  \n",
        "  for i in range(0,2,1):\n",
        "       print(\"我也是\")\n",
        "total=A+190       \n",
        "print(\"好的,一共是\",total)\n",
        "print(\"謝謝光臨,歡迎下次再來\")"
      ],
      "execution_count": null,
      "outputs": []
    },
    {
      "cell_type": "code",
      "metadata": {
        "colab": {
          "base_uri": "https://localhost:8080/"
        },
        "id": "jHgv4aj1bXIK",
        "outputId": "384c459d-cd76-45c0-b6a5-065ae7d35cb8"
      },
      "source": [
        "#孫揚凱\n",
        "print(\"鴨子：ㄟㄟ, 哥, 我們等等要怎麼去遊樂園玩？\")\n",
        "list1=(\"'坐捷運', '坐計程車', '走路', 'Ubike'?\")\n",
        "print(\"要怎麼去？\",  ' ')\n",
        "print(list1)\n",
        "怎麼去 = int(input(\"要怎麼去呢?, 1坐捷運 2坐計程車 3走路 4Ubike\"))\n",
        "if 怎麼去==1:\n",
        "  print(\"好鴨, 哪次不坐\")\n",
        "if 怎麼去==2:\n",
        "  print(\"好貴喔, 我們坐捷運好了\")\n",
        "if 怎麼去==3: \n",
        "  print(\"你走給我看啊XD,我在那邊等你\")\n",
        "if 怎麼去==4:\n",
        "  print(\"走啊!!,喔,是騎鴨\")\n",
        "  print(\"騎鴨ww\")\n",
        "print(\"哲哥：ㄟ不對,我們還沒決定要去哪玩啊XD\")"
      ],
      "execution_count": 1,
      "outputs": [
        {
          "output_type": "stream",
          "text": [
            "鴨子：ㄟㄟ, 哥, 我們等等要怎麼去遊樂園玩？\n",
            "要怎麼去？  \n",
            "'坐捷運', '坐計程車', '走路', 'Ubike'?\n",
            "要怎麼去呢?, 1坐捷運 2坐計程車 3走路 4Ubike4\n",
            "走啊!!,喔,是騎鴨\n",
            "騎鴨ww\n",
            "哲哥：ㄟ不對,我們還沒決定要去哪玩啊XD\n"
          ],
          "name": "stdout"
        }
      ]
    },
    {
      "cell_type": "code",
      "metadata": {
        "colab": {
          "base_uri": "https://localhost:8080/"
        },
        "id": "7Etn9hIUeFbH",
        "outputId": "2e74fbba-6ec7-4681-9037-04f7d129f7cd"
      },
      "source": [
        "#徐緯鳴\n",
        "stroke = int(input(\"大家都吃完了吧, 接下來去哪? 1是電影院 2是遊樂場 3是網咖 4是逛街選哪個?\"))\n",
        "if stroke==1: \n",
        "  print(\"可是最近都沒有什麼電影好看, 要不然去遊樂場怎麼樣?\")\n",
        "if stroke==2:\n",
        "  print(\"我覺得不錯\")\n",
        "if stroke==3:\n",
        "  print(\"家裡就有電腦了,幹嘛去網咖。我比較想要去遊樂園\")\n",
        "if stroke==4:\n",
        "  print(\"逛街太花錢了,要不然去遊樂場怎麼樣?\")\n",
        "print(\"那你們帶多少錢?\")\n",
        "print(\"我只帶了100\")\n",
        "金額 = [\"哲哥:我帶100\", \"VIC:我帶500\", \"鴨子:我帶300\", \"Leo:我帶0元\"]\n",
        "for i in 金額:\n",
        "  print(i)\n",
        "print(\"我們今天會花公車錢、早餐錢和票錢\")\n",
        "早餐 = float(input(\"早餐: \"))\n",
        "車錢 = float(input(\"車錢: \"))\n",
        "票價 = float(input(\"票價: \"))\n",
        "total = 早餐+車錢+票價\n",
        "print(total/7)\n",
        "print(\"今天費用一個人大概100\")\n",
        "help = input(\"Leo你錢夠嗎？夠 or 不夠\")\n",
        "borrow = input(\"你要跟鄭勝元借嗎？好 or 不好\")\n",
        "if help == \"不夠\":\n",
        "  if borrow == \"好\":\n",
        "    print(\"Leo:謝了元哥\")"
      ],
      "execution_count": null,
      "outputs": [
        {
          "output_type": "stream",
          "text": [
            "大家都吃完了吧, 接下來去哪? 1是電影院2是遊樂場3是網咖4是逛街選哪個?2\n",
            "我覺得不錯\n",
            "那你們帶多少錢?\n",
            "我只帶了100\n",
            "哲哥:我帶100\n",
            "VIC:我帶500\n",
            "鴨子:我帶300\n",
            "Leo:我帶0元\n",
            "我們今天會花公車錢、早餐錢和票錢\n",
            "早餐: 100\n",
            "車錢: 300\n",
            "票價: 300\n",
            "100.0\n",
            "今天費用一個人大概100\n",
            "Leo你錢夠嗎？夠 or 不夠不夠\n",
            "你要跟鄭勝元借嗎？好 or 不好好\n",
            "Leo:謝了元哥\n"
          ],
          "name": "stdout"
        }
      ]
    },
    {
      "cell_type": "code",
      "metadata": {
        "id": "HuYmiAWGjFgv"
      },
      "source": [
        "#林氶哲\n",
        "print(\"Hi welcome to shu amusement park how can i help you?\")\n",
        "print(\"I need to buy tickets.\")\n",
        "list1 = [\"Adults: $150\",\"Students: $120\",\"Childern: $80\",\"Kids: $40\"]\n",
        "list2 = [\"Coke: $50\",\"Sprite: $50\",\"Hot Dog: $45\"]\n",
        "print(\"Okay so here is our list or all the ticket price and the discount\",list1)\n",
        "print(\"Just in case you need something to eat or to drink\", list2)\n",
        "adult = int(input(\"I want adult tickets for \"))\n",
        "student = int(input(\"I want student tickets for \"))\n",
        "children = int(input(\"I want children tickets for \"))\n",
        "kids = int(input(\"I want kids tickets for \"))\n",
        "print(\"You need anything else?\")\n",
        "coke = int(input(\"I want \")) \n",
        "print(\" cups of coke.\")\n",
        "sprite = int(input(\"I want \"))\n",
        "print(\" cups of sprite.\")\n",
        "hotdog = int(input(\"I want \"))\n",
        "print(\" hot dogs.\")\n",
        "import math\n",
        "total = adult*150 + student*120 + children*80 + kids*40 + coke*50 + sprite*50 + hotdog*45\n",
        "if (total>400) and (total<=650):\n",
        "  print(\"Okay so your total will be \", math.ceil(total*0.9*10)/10.0, \".\")\n",
        "elif (total>650) and (total<=900):\n",
        "  print(\"Okay so your total amount will be \", math.ceil(total*0.85*10)/10.0, \".\")\n",
        "elif (total>900) and (total<=1150):\n",
        "  print(\"Okay so your total amount will be \", (total*0.8*10)/10.0, \".\")\n",
        "elif total>1150:\n",
        "  print(\"Okay so your total amount will  be \", math.ceil(total*0.75*10)/10.0, \".\")\n",
        "else:\n",
        "  print(\"Okay so your total amount will be \", total, \".\")\n",
        "print(\"Card or cash?\")\n",
        "print(\"Card, please.\")\n",
        "print(\"Have a nice day!\")\n",
        "print(\"Yeah you too.\")"
      ],
      "execution_count": null,
      "outputs": []
    },
    {
      "cell_type": "code",
      "metadata": {
        "id": "x8zBGWa7jpIj",
        "colab": {
          "base_uri": "https://localhost:8080/"
        },
        "outputId": "7e888e6a-e40c-45ab-9db8-a74226c4ac81"
      },
      "source": [
        "#林威廷\n",
        "print(\"威哥:欸,到了遊樂園想玩些啥啊?\")\n",
        "list1=(\"'海盜船','雲霄飛車',大怒神還是鬼屋'?\")\n",
        "print(\"玩啥呢?\")\n",
        "print(list1)\n",
        "玩啥呢=int(input(\"玩啥呢?,1海盜船 2雲霄飛車 3大怒神 4鬼屋 \"))\n",
        "if 玩啥呢==1:\n",
        "  print(\"ok,走\")\n",
        "if 玩啥呢==2:\n",
        "  print(\"ok,走\")\n",
        "if 玩啥呢==3:\n",
        "  print(\"ok,走\")\n",
        "if 玩啥呢==4:\n",
        "  print(\"ok,走\")\n",
        "print(\"緯鳴:可是我比較想玩旋轉木馬欸,那個才夠驚險刺激\")\n",
        "print(\"盛元:就是說啊,摩天輪也行,男人就是要玩那種的\")\n",
        "print(\"哲哥:蛤?供三小\")\n",
        "print(\"孔雀王李林宏:比起玩遊樂園,我比較想幹野獸欸\")\n",
        "print(\"鴨哥:幹哪種野獸都行,就是不准幹鴨子\")\n",
        "print(\"易璋:哈哈哈 笑死\")"
      ],
      "execution_count": 3,
      "outputs": [
        {
          "output_type": "stream",
          "text": [
            "威哥:欸,到了遊樂園想玩些啥啊?\n",
            "玩啥呢?\n",
            "'海盜船','雲霄飛車',大怒神還是鬼屋'?\n",
            "玩啥呢?,1海盜船 2雲霄飛車 3大怒神 4鬼屋 4\n",
            "ok,走\n",
            "緯鳴:可是我比較想玩旋轉木馬欸,那個才夠驚險刺激\n",
            "盛元:就是說啊,摩天輪也行,男人就是要玩那種的\n",
            "哲哥:蛤?供三小\n",
            "孔雀王李林宏:比起玩遊樂園,我比較想幹野獸欸\n",
            "鴨哥:幹哪種野獸都行,就是不准幹鴨子\n",
            "易璋:哈哈哈 笑死\n"
          ],
          "name": "stdout"
        }
      ]
    },
    {
      "cell_type": "code",
      "metadata": {
        "colab": {
          "base_uri": "https://localhost:8080/"
        },
        "id": "p8glJtjBjpXz",
        "outputId": "71202c58-3827-4118-bfb3-04a19e362efd"
      },
      "source": [
        "#謝易璋\n",
        "print(\"今天真好玩, 可惜快樂的時光總是稍縱即逝\")\n",
        "print(\"鴨哥:沒關係啊, 我們之後可以再約啊\")\n",
        "list1 = ('那週末吧','寒假吧')\n",
        "print (\"我:好啊,剛才那個害鴨哥落水的急流泛舟我也想再玩一次, 那要什麼時候?段考完的週末嗎?還是寒假?\")\n",
        "print(list1)\n",
        "date = int(input(\"1那週末吧 ,2寒假吧 \"))\n",
        "if date == 1:\n",
        "  print(\"哲哥:可是我已經跟女朋友約好那天要去北海道滑雪了欸\")\n",
        "  print(\"其他組員:....\")\n",
        "  print(\"我:那..那就寒假的時候吧?!大家的時間也比較好喬?!\")\n",
        "print(\"其他組員:好啊?!\")\n",
        "if date == 2:\n",
        "  print(\"鴨哥:好啊, 寒假的時候我也都待在台北\")\n",
        "  print(\"哲哥:好啊,我寒假也比較方便\")\n",
        "  print(\"那詳細的日期就那時候再約吧\")\n",
        "print(\"所有人:好啊\")"
      ],
      "execution_count": null,
      "outputs": [
        {
          "output_type": "stream",
          "text": [
            "今天真好玩, 可惜快樂的時光總是稍縱即逝\n",
            "鴨哥:沒關係啊, 我們之後可以再約啊\n",
            "我:好啊,剛才那個害鴨哥落水的急流泛舟我也想再玩一次, 那要什麼時候?段考完的週末嗎?還是寒假?\n",
            "('那週末吧', '寒假吧')\n",
            "1那週末吧,2寒假吧1\n",
            "哲哥:可是我已經跟女朋友約好那天要去北海道滑雪了欸\n",
            "其他組員:....\n",
            "我:那..那就寒假的時候吧?!大家的時間也比較好喬?!\n",
            "其他組員:好啊?!\n",
            "所有人:好啊\n"
          ],
          "name": "stdout"
        }
      ]
    },
    {
      "cell_type": "code",
      "metadata": {
        "colab": {
          "base_uri": "https://localhost:8080/"
        },
        "id": "4xwGKn90mRn4",
        "outputId": "2d5f0749-eafc-4a1a-96df-ba797a820313"
      },
      "source": [
        "#李林宏\n",
        "end = int(input(\"那麼各位要怎麼回家呢? 1是搭公車 2是騎車 3是搭捷運\"))\n",
        "if end == 1:\n",
        "  print(\"假如是要搭到景美的話, 要不要一起走?\")\n",
        "  print(\"好啊好啊\")\n",
        "if end == 2:\n",
        "  print(\"載我拜託, 到景美捷運站就好\")\n",
        "  print(\"好啦安全帽戴上\")\n",
        "if end == 3:\n",
        "  print(\"喔好吧, 再見\")\n",
        "  print(\"886\")"
      ],
      "execution_count": null,
      "outputs": [
        {
          "output_type": "stream",
          "text": [
            "那麼各位要怎麼回家呢? 1是搭公車 2是騎車 3是搭捷運1\n",
            "假如是要搭到景美的話, 要不要一起走?\n"
          ],
          "name": "stdout"
        }
      ]
    }
  ]
}