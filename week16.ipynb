{
  "nbformat": 4,
  "nbformat_minor": 0,
  "metadata": {
    "colab": {
      "name": "Untitled5.ipynb",
      "provenance": [],
      "authorship_tag": "ABX9TyNyWp8JQu+wjufREHaSdNh4",
      "include_colab_link": true
    },
    "kernelspec": {
      "name": "python3",
      "display_name": "Python 3"
    }
  },
  "cells": [
    {
      "cell_type": "markdown",
      "metadata": {
        "id": "view-in-github",
        "colab_type": "text"
      },
      "source": [
        "<a href=\"https://colab.research.google.com/github/duck34977089/Computational-Thinking/blob/master/week16.ipynb\" target=\"_parent\"><img src=\"https://colab.research.google.com/assets/colab-badge.svg\" alt=\"Open In Colab\"/></a>"
      ]
    },
    {
      "cell_type": "markdown",
      "metadata": {
        "id": "WZiy0ylB7yny"
      },
      "source": [
        "非巣狀結構氏"
      ]
    },
    {
      "cell_type": "code",
      "metadata": {
        "colab": {
          "base_uri": "https://localhost:8080/"
        },
        "id": "1VjgYWc07vIH",
        "outputId": "87c5cb20-56c5-4fa7-8418-39211e57605e"
      },
      "source": [
        "num_a = int(input(\"enter a number\"))\r\n",
        "num_b = int(int(input(\"enter a number\")))\r\n",
        "\r\n",
        "if num_a<0:\r\n",
        "  print(\"第一個是負數\")\r\n",
        "if num_b<0:\r\n",
        "  print(\"第二個是負數\")\r\n",
        "print(\"結束\")"
      ],
      "execution_count": 1,
      "outputs": [
        {
          "output_type": "stream",
          "text": [
            "enter a number2\n",
            "enter a number2\n",
            "結束\n"
          ],
          "name": "stdout"
        }
      ]
    },
    {
      "cell_type": "markdown",
      "metadata": {
        "id": "knbHcxed8sWT"
      },
      "source": [
        "雙向結構氏"
      ]
    },
    {
      "cell_type": "code",
      "metadata": {
        "colab": {
          "base_uri": "https://localhost:8080/"
        },
        "id": "f3NLXkdY8v4q",
        "outputId": "39cc2767-6cfe-4a43-f391-b09bb3eb4491"
      },
      "source": [
        "score = int(input('enter a number'))\r\n",
        "if score>=70:\r\n",
        "  print('good')\r\n",
        "else:\r\n",
        "  print('try again')"
      ],
      "execution_count": 3,
      "outputs": [
        {
          "output_type": "stream",
          "text": [
            "enter a number70\n",
            "good\n"
          ],
          "name": "stdout"
        }
      ]
    },
    {
      "cell_type": "code",
      "metadata": {
        "colab": {
          "base_uri": "https://localhost:8080/"
        },
        "id": "nZtYAln19CNc",
        "outputId": "d33b7cec-31f4-41ee-d087-42cb49a6eae0"
      },
      "source": [
        "num = int(input('enter a number'))\r\n",
        "if num % 2 == 0:\r\n",
        "  print(num, 'is偶數')\r\n",
        "else:\r\n",
        "  print(num, 'is奇數') "
      ],
      "execution_count": 8,
      "outputs": [
        {
          "output_type": "stream",
          "text": [
            "enter a number54684\n",
            "54684 is偶數\n"
          ],
          "name": "stdout"
        }
      ]
    },
    {
      "cell_type": "code",
      "metadata": {
        "colab": {
          "base_uri": "https://localhost:8080/"
        },
        "id": "Ut5t9K5i964H",
        "outputId": "00017e57-47f0-43bf-fecd-8b7c628f86ed"
      },
      "source": [
        "a = int(input('enter a length'))\r\n",
        "b = int(input('enter a length'))\r\n",
        "c = int(input('enter a length'))\r\n",
        "if (a+b>c)and(a+c>b)and(b+c>a):\r\n",
        "  print('It can be a triangle')\r\n",
        "else:\r\n",
        "  print('It can not be a triangle.')"
      ],
      "execution_count": 11,
      "outputs": [
        {
          "output_type": "stream",
          "text": [
            "enter a length10\n",
            "enter a length5\n",
            "enter a length2\n",
            "It can not be a triangle.\n"
          ],
          "name": "stdout"
        }
      ]
    },
    {
      "cell_type": "code",
      "metadata": {
        "id": "oMY7dBrw_Z_e"
      },
      "source": [
        ""
      ],
      "execution_count": null,
      "outputs": []
    }
  ]
}