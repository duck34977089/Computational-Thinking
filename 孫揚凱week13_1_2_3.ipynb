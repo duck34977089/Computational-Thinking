{
  "nbformat": 4,
  "nbformat_minor": 0,
  "metadata": {
    "colab": {
      "name": "孫揚凱week13-1.2.3.ipynb",
      "provenance": [],
      "authorship_tag": "ABX9TyNzEHosw5t6XH5MGnrqe6QS",
      "include_colab_link": true
    },
    "kernelspec": {
      "name": "python3",
      "display_name": "Python 3"
    }
  },
  "cells": [
    {
      "cell_type": "markdown",
      "metadata": {
        "id": "view-in-github",
        "colab_type": "text"
      },
      "source": [
        "<a href=\"https://colab.research.google.com/github/duck34977089/Computational-Thinking/blob/master/%E5%AD%AB%E6%8F%9A%E5%87%B1week13_1_2_3.ipynb\" target=\"_parent\"><img src=\"https://colab.research.google.com/assets/colab-badge.svg\" alt=\"Open In Colab\"/></a>"
      ]
    },
    {
      "cell_type": "code",
      "metadata": {
        "colab": {
          "base_uri": "https://localhost:8080/"
        },
        "id": "tqe6QtMejj1c",
        "outputId": "e42302f4-c7fa-4e9a-b39b-9d275fbb4c70"
      },
      "source": [
        "for i in range(0,5,1):\r\n",
        "  print(\"Hollo\")"
      ],
      "execution_count": 3,
      "outputs": [
        {
          "output_type": "stream",
          "text": [
            "Hollo\n",
            "Hollo\n",
            "Hollo\n",
            "Hollo\n",
            "Hollo\n"
          ],
          "name": "stdout"
        }
      ]
    },
    {
      "cell_type": "code",
      "metadata": {
        "colab": {
          "base_uri": "https://localhost:8080/"
        },
        "id": "IQC8_kyzjtbJ",
        "outputId": "21dde7b6-ff35-4686-962d-873e163571d0"
      },
      "source": [
        "for i in range(100,90,-3):\r\n",
        "  print(i)"
      ],
      "execution_count": 13,
      "outputs": [
        {
          "output_type": "stream",
          "text": [
            "100\n",
            "97\n",
            "94\n",
            "91\n"
          ],
          "name": "stdout"
        }
      ]
    },
    {
      "cell_type": "code",
      "metadata": {
        "colab": {
          "base_uri": "https://localhost:8080/"
        },
        "id": "Va4Nwx1vlM7T",
        "outputId": "b8936d07-1051-4e7d-89e2-629a1c8a0b8b"
      },
      "source": [
        "for i in range(1,11,2):\r\n",
        "  print(i)"
      ],
      "execution_count": 14,
      "outputs": [
        {
          "output_type": "stream",
          "text": [
            "1\n",
            "3\n",
            "5\n",
            "7\n",
            "9\n"
          ],
          "name": "stdout"
        }
      ]
    },
    {
      "cell_type": "code",
      "metadata": {
        "colab": {
          "base_uri": "https://localhost:8080/"
        },
        "id": "w-acUXhbq2Cw",
        "outputId": "67613f0c-e04e-4a57-e27c-41ef7a57f028"
      },
      "source": [
        "sum = 0\r\n",
        "for i in range(3,14,3):\r\n",
        "  sum = sum+i\r\n",
        "print(\"Total is\",sum)"
      ],
      "execution_count": 18,
      "outputs": [
        {
          "output_type": "stream",
          "text": [
            "Total is 30\n"
          ],
          "name": "stdout"
        }
      ]
    },
    {
      "cell_type": "code",
      "metadata": {
        "id": "TdVgtukEr1It"
      },
      "source": [
        ""
      ],
      "execution_count": null,
      "outputs": []
    }
  ]
}