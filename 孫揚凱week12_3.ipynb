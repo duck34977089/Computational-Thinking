{
  "nbformat": 4,
  "nbformat_minor": 0,
  "metadata": {
    "colab": {
      "name": "孫揚凱week12-3.ipynb",
      "provenance": [],
      "authorship_tag": "ABX9TyO10R4JSJ05QnIfdXWBpIMs",
      "include_colab_link": true
    },
    "kernelspec": {
      "name": "python3",
      "display_name": "Python 3"
    }
  },
  "cells": [
    {
      "cell_type": "markdown",
      "metadata": {
        "id": "view-in-github",
        "colab_type": "text"
      },
      "source": [
        "<a href=\"https://colab.research.google.com/github/duck34977089/Computational-Thinking/blob/master/%E5%AD%AB%E6%8F%9A%E5%87%B1week12_3.ipynb\" target=\"_parent\"><img src=\"https://colab.research.google.com/assets/colab-badge.svg\" alt=\"Open In Colab\"/></a>"
      ]
    },
    {
      "cell_type": "code",
      "metadata": {
        "colab": {
          "base_uri": "https://localhost:8080/"
        },
        "id": "wXir8MZxoMNB",
        "outputId": "5c5aa88f-2034-44d9-eb95-f7f401511843"
      },
      "source": [
        "#[0,1,2,3,4]\n",
        "a = range(0,5,1) \n",
        "print(a)"
      ],
      "execution_count": 12,
      "outputs": [
        {
          "output_type": "stream",
          "text": [
            "range(0, 5)\n"
          ],
          "name": "stdout"
        }
      ]
    },
    {
      "cell_type": "code",
      "metadata": {
        "colab": {
          "base_uri": "https://localhost:8080/"
        },
        "id": "gnjvkv-lqs3t",
        "outputId": "964cf886-4e12-42dc-9c11-3c1114e9a7ef"
      },
      "source": [
        "print(a[0],a[1],a[2],a[3],a[4])"
      ],
      "execution_count": 10,
      "outputs": [
        {
          "output_type": "stream",
          "text": [
            "0 1 2 3 4\n"
          ],
          "name": "stdout"
        }
      ]
    },
    {
      "cell_type": "code",
      "metadata": {
        "colab": {
          "base_uri": "https://localhost:8080/"
        },
        "id": "nlDWpnFLrXwh",
        "outputId": "affb33c0-dc94-4c6a-ad6b-76fad2be6478"
      },
      "source": [
        "#[2,3,4,5]\n",
        "b = range(2,6,1)\n",
        "print(b[0],b[1],b[2],b[3])"
      ],
      "execution_count": 15,
      "outputs": [
        {
          "output_type": "stream",
          "text": [
            "2 3 4 5\n"
          ],
          "name": "stdout"
        }
      ]
    },
    {
      "cell_type": "code",
      "metadata": {
        "colab": {
          "base_uri": "https://localhost:8080/"
        },
        "id": "oVX0Skbkrz7k",
        "outputId": "6e578721-3994-423a-d79d-451fa30eb3b7"
      },
      "source": [
        "#[2,5,8]\n",
        "c = range(2,10,3)\n",
        "print(c[0],c[1],c[2])"
      ],
      "execution_count": 16,
      "outputs": [
        {
          "output_type": "stream",
          "text": [
            "2 5 8\n"
          ],
          "name": "stdout"
        }
      ]
    },
    {
      "cell_type": "code",
      "metadata": {
        "colab": {
          "base_uri": "https://localhost:8080/"
        },
        "id": "Us31hC3zsM04",
        "outputId": "de2e8d72-c1c3-44d1-d5aa-672a596186dc"
      },
      "source": [
        "#[10,8,6,4]\n",
        "d = range(10,3,-2)\n",
        "print(d[0],d[1],d[2],d[3])"
      ],
      "execution_count": 17,
      "outputs": [
        {
          "output_type": "stream",
          "text": [
            "10 8 6 4\n"
          ],
          "name": "stdout"
        }
      ]
    },
    {
      "cell_type": "code",
      "metadata": {
        "id": "VuDmy2CGsaXg"
      },
      "source": [
        "隨堂練習3:請用range()函數建立下面的數字串列。\n",
        "(1) [0, 1, 2, 3, 4,  5,  6,  7,  8,  9]\n",
        "(2) [0, 2, 4, 6, 8]\n",
        "(3) [5, 7, 9]\n",
        "(4) [0, -1, -2, -3, -4, -5, -6, -7, -8, -9]\n",
        "(5)將上面(4)串列中的數字一一取出來。"
      ],
      "execution_count": null,
      "outputs": []
    },
    {
      "cell_type": "code",
      "metadata": {
        "colab": {
          "base_uri": "https://localhost:8080/"
        },
        "id": "0oonD_Zvs7D4",
        "outputId": "f7fc1147-f65a-42b1-a479-8345f9c15c70"
      },
      "source": [
        "#[0,1,2,3,4,5,6,7,8,9]\n",
        "e = range(0,10,1)\n",
        "print(e[0],e[1],e[2],e[3],e[4],e[5],e[6],e[7],e[7],e[8],e[9])"
      ],
      "execution_count": 46,
      "outputs": [
        {
          "output_type": "stream",
          "text": [
            "0 1 2 3 4 5 6 7 7 8 9\n"
          ],
          "name": "stdout"
        }
      ]
    },
    {
      "cell_type": "code",
      "metadata": {
        "colab": {
          "base_uri": "https://localhost:8080/"
        },
        "id": "2scsVZ4qtOi3",
        "outputId": "ab58c952-b25b-43d2-aff0-67eb56911a84"
      },
      "source": [
        "#[0, 2, 4, 6, 8]\n",
        "f = range(0,9,2)\n",
        "print(f[0],f[1],f[2],f[3],f[4])"
      ],
      "execution_count": 47,
      "outputs": [
        {
          "output_type": "stream",
          "text": [
            "0 2 4 6 8\n"
          ],
          "name": "stdout"
        }
      ]
    },
    {
      "cell_type": "code",
      "metadata": {
        "colab": {
          "base_uri": "https://localhost:8080/"
        },
        "id": "HfZJAuIzyN3i",
        "outputId": "68826c24-c9d8-4347-afb9-964f2b09b48d"
      },
      "source": [
        "#[5, 7, 9]\n",
        "g = range(5,10,2)\n",
        "print(g[0],g[1],g[2])"
      ],
      "execution_count": 48,
      "outputs": [
        {
          "output_type": "stream",
          "text": [
            "5 7 9\n"
          ],
          "name": "stdout"
        }
      ]
    },
    {
      "cell_type": "code",
      "metadata": {
        "colab": {
          "base_uri": "https://localhost:8080/"
        },
        "id": "cir3DuccybHk",
        "outputId": "9780f51b-5d74-4136-ad6c-f4f7e7b78447"
      },
      "source": [
        "#[0, -1, -2, -3, -4, -5, -6, -7, -8, -9]\n",
        "h = range(0,-10,-1)\n",
        "print(h[0],h[1],h[2],h[3],h[4],h[5],h[6],h[7],h[7],h[8],h[9])"
      ],
      "execution_count": 51,
      "outputs": [
        {
          "output_type": "stream",
          "text": [
            "0 -1 -2 -3 -4 -5 -6 -7 -7 -8 -9\n"
          ],
          "name": "stdout"
        }
      ]
    },
    {
      "cell_type": "code",
      "metadata": {
        "id": "jHl4r1phyw4_"
      },
      "source": [
        ""
      ],
      "execution_count": null,
      "outputs": []
    }
  ]
}