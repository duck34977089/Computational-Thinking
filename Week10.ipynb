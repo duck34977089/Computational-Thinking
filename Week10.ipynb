{
  "nbformat": 4,
  "nbformat_minor": 0,
  "metadata": {
    "colab": {
      "name": "Week10.ipynb",
      "provenance": [],
      "authorship_tag": "ABX9TyMmWTtbLSuW679GMxLDRXNs",
      "include_colab_link": true
    },
    "kernelspec": {
      "display_name": "Python 3",
      "name": "python3"
    }
  },
  "cells": [
    {
      "cell_type": "markdown",
      "metadata": {
        "id": "view-in-github",
        "colab_type": "text"
      },
      "source": [
        "<a href=\"https://colab.research.google.com/github/duck34977089/Computational-Thinking/blob/master/Week10.ipynb\" target=\"_parent\"><img src=\"https://colab.research.google.com/assets/colab-badge.svg\" alt=\"Open In Colab\"/></a>"
      ]
    },
    {
      "cell_type": "code",
      "metadata": {
        "id": "ukGeHBEEsytA",
        "colab": {
          "base_uri": "https://localhost:8080/"
        },
        "outputId": "3fdf1528-843f-4fc4-b592-75a19057efca"
      },
      "source": [
        "a=int(input(\"請輸入你的座號:\"))\n",
        "group=(a-1)//5\n",
        "print('你的組別為:',group+1)"
      ],
      "execution_count": 13,
      "outputs": [
        {
          "output_type": "stream",
          "text": [
            "請輸入你的座號:5\n",
            "你的組別為: 1\n"
          ],
          "name": "stdout"
        }
      ]
    }
  ]
}