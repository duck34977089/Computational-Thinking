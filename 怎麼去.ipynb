{
  "nbformat": 4,
  "nbformat_minor": 0,
  "metadata": {
    "colab": {
      "name": "怎麼去.ipynb",
      "provenance": [],
      "authorship_tag": "ABX9TyMeYw2TVCnhSWjUzr5FHzVu",
      "include_colab_link": true
    },
    "kernelspec": {
      "name": "python3",
      "display_name": "Python 3"
    }
  },
  "cells": [
    {
      "cell_type": "markdown",
      "metadata": {
        "id": "view-in-github",
        "colab_type": "text"
      },
      "source": [
        "<a href=\"https://colab.research.google.com/github/duck34977089/Computational-Thinking/blob/master/%E6%80%8E%E9%BA%BC%E5%8E%BB.ipynb\" target=\"_parent\"><img src=\"https://colab.research.google.com/assets/colab-badge.svg\" alt=\"Open In Colab\"/></a>"
      ]
    },
    {
      "cell_type": "code",
      "metadata": {
        "colab": {
          "base_uri": "https://localhost:8080/"
        },
        "id": "Wru4GV-sDk_k",
        "outputId": "442e740f-dca7-4d7e-dd8a-5738a9401346"
      },
      "source": [
        "print(\"鴨子:ㄟㄟ，哥，我們等等要怎麼去遊樂園玩?\")\r\n",
        "list1=(\"'坐捷運','坐計程車','走路',Ubike'?\")\r\n",
        "print(\"要怎麼去?\", ' ')\r\n",
        "print(list1)\r\n",
        "怎麼去 = int(input(\"要怎麼去呢?,0坐捷運1坐計程車2走路3Ubike\"))\r\n",
        "if 怎麼去==0:\r\n",
        "  print(\"好鴨,哪次不坐\")\r\n",
        "if 怎麼去==1:\r\n",
        "  print(\"好貴喔，我們坐捷運好了\")\r\n",
        "if 怎麼去==2:\r\n",
        "  print(\"你走給我看阿XD,我在那邊等你\")\r\n",
        "if 怎麼去==3:\r\n",
        "  print(\"走啊!!,喔,是騎鴨\")\r\n",
        "  print(\"騎鴨ww\")\r\n",
        "print(\"哲哥:ㄟ不對，我們還沒決定去哪玩阿XD\")"
      ],
      "execution_count": 4,
      "outputs": [
        {
          "output_type": "stream",
          "text": [
            "鴨子:ㄟㄟ，哥，我們等等要怎麼去遊樂園玩?\n",
            "要怎麼去?  \n",
            "'坐捷運','坐計程車','走路',Ubike'?\n",
            "要怎麼去呢?,0坐捷運1坐計程車2走路3Ubike0\n",
            "好鴨,哪次不坐\n",
            "哲哥:ㄟ不對，我們還沒決定去哪玩阿XD\n"
          ],
          "name": "stdout"
        }
      ]
    },
    {
      "cell_type": "code",
      "metadata": {
        "id": "taUXkHKfDvZd"
      },
      "source": [
        ""
      ],
      "execution_count": 3,
      "outputs": []
    }
  ]
}