{
  "nbformat": 4,
  "nbformat_minor": 0,
  "metadata": {
    "colab": {
      "name": "歡迎使用 Colaboratory",
      "provenance": [],
      "collapsed_sections": [],
      "include_colab_link": true
    },
    "kernelspec": {
      "display_name": "Python 3",
      "name": "python3"
    }
  },
  "cells": [
    {
      "cell_type": "markdown",
      "metadata": {
        "id": "view-in-github",
        "colab_type": "text"
      },
      "source": [
        "<a href=\"https://colab.research.google.com/github/duck34977089/Computational-Thinking/blob/master/%E6%AD%A1%E8%BF%8E%E4%BD%BF%E7%94%A8_Colaboratory.ipynb\" target=\"_parent\"><img src=\"https://colab.research.google.com/assets/colab-badge.svg\" alt=\"Open In Colab\"/></a>"
      ]
    },
    {
      "cell_type": "code",
      "metadata": {
        "id": "gfrDZ_r-HmQ5",
        "outputId": "3eedfc42-9343-4cf7-a7bb-eec4c9efdafa",
        "colab": {
          "base_uri": "https://localhost:8080/"
        }
      },
      "source": [
        "上衣 = int(input(\"輸入您的上衣數量\"))"
      ],
      "execution_count": 70,
      "outputs": [
        {
          "output_type": "stream",
          "text": [
            "輸入您的上衣數量3\n"
          ],
          "name": "stdout"
        }
      ]
    },
    {
      "cell_type": "code",
      "metadata": {
        "id": "8im22qrJPOZk",
        "outputId": "db047239-35b1-4d31-ce46-5772a1f49db1",
        "colab": {
          "base_uri": "https://localhost:8080/"
        }
      },
      "source": [
        "褲子 = int(input(\"輸入您的褲子數量\"))"
      ],
      "execution_count": 71,
      "outputs": [
        {
          "output_type": "stream",
          "text": [
            "輸入您的褲子數量2\n"
          ],
          "name": "stdout"
        }
      ]
    },
    {
      "cell_type": "code",
      "metadata": {
        "id": "KRvCoU1aNwNR",
        "outputId": "6b34b1dd-f6c9-4eb8-e9cb-008661e3b02f",
        "colab": {
          "base_uri": "https://localhost:8080/"
        }
      },
      "source": [
        "背心 = int(input(\"輸入您的背心數量\"))\n"
      ],
      "execution_count": 73,
      "outputs": [
        {
          "output_type": "stream",
          "text": [
            "輸入您的背心數量1\n"
          ],
          "name": "stdout"
        }
      ]
    },
    {
      "cell_type": "code",
      "metadata": {
        "id": "fjheFfAtPVE8"
      },
      "source": [
        "總金額=int(上衣*300+褲子*350+背心*400)\n"
      ],
      "execution_count": 76,
      "outputs": []
    },
    {
      "cell_type": "code",
      "metadata": {
        "id": "KrTMlNwcPaj6",
        "outputId": "cedfe2a8-b5d1-4e0c-a1b4-0a2c5e0e4e5e",
        "colab": {
          "base_uri": "https://localhost:8080/"
        }
      },
      "source": [
        "print(\"總金額\",總金額)"
      ],
      "execution_count": 77,
      "outputs": [
        {
          "output_type": "stream",
          "text": [
            "總金額 2000\n"
          ],
          "name": "stdout"
        }
      ]
    },
    {
      "cell_type": "code",
      "metadata": {
        "id": "8AzHC1wlRbkx"
      },
      "source": [
        ""
      ],
      "execution_count": null,
      "outputs": []
    },
    {
      "cell_type": "code",
      "metadata": {
        "id": "eLapT-EDSEop",
        "outputId": "5cf47506-5f70-49c2-caa5-033bd703c6ca",
        "colab": {
          "base_uri": "https://localhost:8080/"
        }
      },
      "source": [
        "cost = int(input(\"please enter the qeantity of cans you have\"))"
      ],
      "execution_count": 94,
      "outputs": [
        {
          "output_type": "stream",
          "text": [
            "please enter the qeantity of cans you have30\n"
          ],
          "name": "stdout"
        }
      ]
    },
    {
      "cell_type": "code",
      "metadata": {
        "id": "3YHDFHJLSlGk"
      },
      "source": [
        "一打 = int(a/12)"
      ],
      "execution_count": null,
      "outputs": []
    },
    {
      "cell_type": "code",
      "metadata": {
        "id": "qj8ScRiQUFd7"
      },
      "source": [
        "未滿一打 = int(a%12)"
      ],
      "execution_count": 106,
      "outputs": []
    },
    {
      "cell_type": "code",
      "metadata": {
        "id": "sQsKODVeW_uF"
      },
      "source": [
        "總金額 = int(一打*200+未滿一打*20)"
      ],
      "execution_count": 107,
      "outputs": []
    },
    {
      "cell_type": "code",
      "metadata": {
        "id": "Lrv1263WXWpz",
        "outputId": "ccce9a72-0667-4b1a-b9ca-4a8bdb9e452c",
        "colab": {
          "base_uri": "https://localhost:8080/"
        }
      },
      "source": [
        "print(\"總金額為\",總金額)"
      ],
      "execution_count": 108,
      "outputs": [
        {
          "output_type": "stream",
          "text": [
            "總金額為 580\n"
          ],
          "name": "stdout"
        }
      ]
    },
    {
      "cell_type": "code",
      "metadata": {
        "id": "3yy7ErIaXewT"
      },
      "source": [
        ""
      ],
      "execution_count": null,
      "outputs": []
    },
    {
      "cell_type": "code",
      "metadata": {
        "id": "s54cRckfXgbK",
        "outputId": "98b11d21-5946-4c5c-bf23-c7048a898001",
        "colab": {
          "base_uri": "https://localhost:8080/"
        }
      },
      "source": [
        "第一次的成績 = int(input(\"請輸入第一次的成績\"))"
      ],
      "execution_count": 110,
      "outputs": [
        {
          "output_type": "stream",
          "text": [
            "請輸入第一次的成績75\n"
          ],
          "name": "stdout"
        }
      ]
    },
    {
      "cell_type": "code",
      "metadata": {
        "id": "4-ScyDBNX7QT",
        "outputId": "9886b5fa-7f02-4e01-c0a0-e5950b1fde02",
        "colab": {
          "base_uri": "https://localhost:8080/"
        }
      },
      "source": [
        "第二次的成績 = int(input(\"請輸入第二次的成績\"))"
      ],
      "execution_count": 111,
      "outputs": [
        {
          "output_type": "stream",
          "text": [
            "請輸入第二次的成績80\n"
          ],
          "name": "stdout"
        }
      ]
    },
    {
      "cell_type": "code",
      "metadata": {
        "id": "YESS5nblYNQE",
        "outputId": "823f9007-e344-4c0d-f5bf-f58023b43f75",
        "colab": {
          "base_uri": "https://localhost:8080/"
        }
      },
      "source": [
        "第三次的成績 = int(input(\"請輸入第三次的成績\"))"
      ],
      "execution_count": 112,
      "outputs": [
        {
          "output_type": "stream",
          "text": [
            "請輸入第三次的成績65\n"
          ],
          "name": "stdout"
        }
      ]
    },
    {
      "cell_type": "code",
      "metadata": {
        "id": "gv2hFP-dYY2j"
      },
      "source": [
        "總平均 = int((第一次的成績+第二次的成績+第三次的成績)/3)"
      ],
      "execution_count": 122,
      "outputs": []
    },
    {
      "cell_type": "code",
      "metadata": {
        "id": "O0xLjW0ZZMlA",
        "outputId": "eabbc0d5-78f5-43ea-8cf4-ba3eb8620118",
        "colab": {
          "base_uri": "https://localhost:8080/"
        }
      },
      "source": [
        "print(\"總平均\",總平均)"
      ],
      "execution_count": 123,
      "outputs": [
        {
          "output_type": "stream",
          "text": [
            "總平均 73\n"
          ],
          "name": "stdout"
        }
      ]
    },
    {
      "cell_type": "code",
      "metadata": {
        "id": "9bwPwkvaY_eD"
      },
      "source": [
        ""
      ],
      "execution_count": null,
      "outputs": []
    }
  ]
}